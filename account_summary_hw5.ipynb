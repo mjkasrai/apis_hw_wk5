{
 "cells": [
  {
   "cell_type": "code",
   "execution_count": 59,
   "metadata": {},
   "outputs": [],
   "source": [
    "import os\n",
    "import plaid\n",
    "import requests\n",
    "import datetime\n",
    "import json\n",
    "import pandas as pd\n",
    "%matplotlib inline"
   ]
  },
  {
   "cell_type": "code",
   "execution_count": 2,
   "metadata": {},
   "outputs": [],
   "source": [
    "def pretty_print_response(response):\n",
    "  print(json.dumps(response, indent=4, sort_keys=True))"
   ]
  },
  {
   "cell_type": "code",
   "execution_count": 3,
   "metadata": {},
   "outputs": [],
   "source": [
    "PLAID_CLIENT_ID = os.getenv('PLAID_CLIENT_ID')\n",
    "PLAID_SBX_SECRET_KEY = os.getenv('PLAID_SBX_SECRET_KEY')\n",
    "PLAID_PUBLIC_KEY = os.getenv('PLAID_PUBLIC_KEY')\n",
    "PLAID_ENV = os.getenv('PLAID_ENV', 'sandbox')\n",
    "PLAID_PRODUCTS = os.getenv('PLAID_PRODUCTS', 'transactions')"
   ]
  },
  {
   "cell_type": "markdown",
   "metadata": {},
   "source": [
    "# Plaid Access Token\n",
    "\n",
    "In this section, you will use the plaid-python api to generate the correct authentication tokens to access data in the free developer Sandbox. This mimics how you might connect to your own account or a customer account, but due to privacy issues, this homework will only require connecting to and analyzing the fake data from the developer sandbox that Plaid provides. \n",
    "\n",
    "Complete the following steps to generate an access token:\n",
    "1. Create a client to connect to paid\n",
    "2. Use the client to generate a public token and request the following items: \n",
    "['transactions', 'income', 'assets']\n",
    "3. Exchange the public token for an access token\n",
    "4. Test the access token by requesting and printing the available test accounts"
   ]
  },
  {
   "cell_type": "markdown",
   "metadata": {},
   "source": [
    "### 1. Create a client to connect to plaid"
   ]
  },
  {
   "cell_type": "code",
   "execution_count": 4,
   "metadata": {},
   "outputs": [],
   "source": [
    "INSTITUTION_ID = \"ins_109508\""
   ]
  },
  {
   "cell_type": "code",
   "execution_count": 5,
   "metadata": {},
   "outputs": [],
   "source": [
    "client = plaid.Client(client_id=PLAID_CLIENT_ID, secret=PLAID_SBX_SECRET_KEY, public_key=PLAID_PUBLIC_KEY, environment=PLAID_ENV)"
   ]
  },
  {
   "cell_type": "markdown",
   "metadata": {},
   "source": [
    "### 2. Generate a public token"
   ]
  },
  {
   "cell_type": "code",
   "execution_count": 6,
   "metadata": {},
   "outputs": [],
   "source": [
    "create_tkn_response = client.Sandbox.public_token.create(INSTITUTION_ID, ['transactions','income','assets'])"
   ]
  },
  {
   "cell_type": "markdown",
   "metadata": {},
   "source": [
    "### 3. Exchange the public token for an access token"
   ]
  },
  {
   "cell_type": "code",
   "execution_count": 7,
   "metadata": {},
   "outputs": [],
   "source": [
    "exchange_response = client.Item.public_token.exchange(create_tkn_response['public_token'])\n",
    "access_token = exchange_response['access_token']"
   ]
  },
  {
   "cell_type": "markdown",
   "metadata": {},
   "source": [
    "### 4. Fetch Accounts"
   ]
  },
  {
   "cell_type": "code",
   "execution_count": 8,
   "metadata": {},
   "outputs": [
    {
     "data": {
      "text/plain": [
       "{'accounts': [{'account_id': '9L87NVZ6EMC8PjRJegZxUk5zR7P4dqTRW9wwQ',\n",
       "   'balances': {'available': 100,\n",
       "    'current': 110,\n",
       "    'iso_currency_code': 'USD',\n",
       "    'limit': None,\n",
       "    'unofficial_currency_code': None},\n",
       "   'mask': '0000',\n",
       "   'name': 'Plaid Checking',\n",
       "   'official_name': 'Plaid Gold Standard 0% Interest Checking',\n",
       "   'subtype': 'checking',\n",
       "   'type': 'depository'},\n",
       "  {'account_id': 'vjqD95klnWflvzAbye3GIWn5jq4ledhW3ZBBR',\n",
       "   'balances': {'available': 200,\n",
       "    'current': 210,\n",
       "    'iso_currency_code': 'USD',\n",
       "    'limit': None,\n",
       "    'unofficial_currency_code': None},\n",
       "   'mask': '1111',\n",
       "   'name': 'Plaid Saving',\n",
       "   'official_name': 'Plaid Silver Standard 0.1% Interest Saving',\n",
       "   'subtype': 'savings',\n",
       "   'type': 'depository'},\n",
       "  {'account_id': 'RN8MXV9GDyFVob8qpNZns7nZ3vkQgbSRvoWWA',\n",
       "   'balances': {'available': None,\n",
       "    'current': 1000,\n",
       "    'iso_currency_code': 'USD',\n",
       "    'limit': None,\n",
       "    'unofficial_currency_code': None},\n",
       "   'mask': '2222',\n",
       "   'name': 'Plaid CD',\n",
       "   'official_name': 'Plaid Bronze Standard 0.2% Interest CD',\n",
       "   'subtype': 'cd',\n",
       "   'type': 'depository'},\n",
       "  {'account_id': '6Zg6Nm7vEbtJajXDl61MUevqX6zEZkTgoPppP',\n",
       "   'balances': {'available': None,\n",
       "    'current': 410,\n",
       "    'iso_currency_code': 'USD',\n",
       "    'limit': 2000,\n",
       "    'unofficial_currency_code': None},\n",
       "   'mask': '3333',\n",
       "   'name': 'Plaid Credit Card',\n",
       "   'official_name': 'Plaid Diamond 12.5% APR Interest Credit Card',\n",
       "   'subtype': 'credit card',\n",
       "   'type': 'credit'},\n",
       "  {'account_id': 'XZ8GE19rWVtQGXVx8Z3aHwk3MyArpLudWvNNk',\n",
       "   'balances': {'available': 43200,\n",
       "    'current': 43200,\n",
       "    'iso_currency_code': 'USD',\n",
       "    'limit': None,\n",
       "    'unofficial_currency_code': None},\n",
       "   'mask': '4444',\n",
       "   'name': 'Plaid Money Market',\n",
       "   'official_name': 'Plaid Platinum Standard 1.85% Interest Money Market',\n",
       "   'subtype': 'money market',\n",
       "   'type': 'depository'},\n",
       "  {'account_id': 'Dm8qjRvBDzfd48XJVeAoclQAzJ1yKXcvPLBBR',\n",
       "   'balances': {'available': None,\n",
       "    'current': 320.76,\n",
       "    'iso_currency_code': 'USD',\n",
       "    'limit': None,\n",
       "    'unofficial_currency_code': None},\n",
       "   'mask': '5555',\n",
       "   'name': 'Plaid IRA',\n",
       "   'official_name': None,\n",
       "   'subtype': 'ira',\n",
       "   'type': 'investment'},\n",
       "  {'account_id': 'VeWLG19qDyiaqKw8geZ3HMjZo1z97WtW8ZXXg',\n",
       "   'balances': {'available': None,\n",
       "    'current': 23631.9805,\n",
       "    'iso_currency_code': 'USD',\n",
       "    'limit': None,\n",
       "    'unofficial_currency_code': None},\n",
       "   'mask': '6666',\n",
       "   'name': 'Plaid 401k',\n",
       "   'official_name': None,\n",
       "   'subtype': '401k',\n",
       "   'type': 'investment'},\n",
       "  {'account_id': 'w7Kl9AoqmXcRvWxAZ13nunqr7BymXvur71xxX',\n",
       "   'balances': {'available': None,\n",
       "    'current': 65262,\n",
       "    'iso_currency_code': 'USD',\n",
       "    'limit': None,\n",
       "    'unofficial_currency_code': None},\n",
       "   'mask': '7777',\n",
       "   'name': 'Plaid Student Loan',\n",
       "   'official_name': None,\n",
       "   'subtype': 'student',\n",
       "   'type': 'loan'}],\n",
       " 'item': {'available_products': ['auth',\n",
       "   'balance',\n",
       "   'credit_details',\n",
       "   'identity',\n",
       "   'investments',\n",
       "   'liabilities'],\n",
       "  'billed_products': ['assets', 'income', 'transactions'],\n",
       "  'error': None,\n",
       "  'institution_id': 'ins_109508',\n",
       "  'item_id': 'Ey9KEN63DBHgazJ87A4BhqxADNpGQ6fXLzbBG',\n",
       "  'webhook': ''},\n",
       " 'request_id': 'i1u8Q6pOjYzJkl2'}"
      ]
     },
     "execution_count": 8,
     "metadata": {},
     "output_type": "execute_result"
    }
   ],
   "source": [
    "client.Accounts.get(access_token)"
   ]
  },
  {
   "cell_type": "markdown",
   "metadata": {},
   "source": [
    "---"
   ]
  },
  {
   "cell_type": "markdown",
   "metadata": {},
   "source": [
    "# Account Transactions with Plaid\n",
    "\n",
    "In this section, you will use the Plaid Python SDK to connect to the Developer Sandbox account and grab a list of transactions. You will need to complete the following steps:\n",
    "\n",
    "\n",
    "1. Use the access token to fetch the transactions for the last 90 days\n",
    "2. Print the categories for each transaction type\n",
    "3. Create a new DataFrame using the following fields from the JSON transaction data: `date, name, amount, category`. (For categories with more than one label, just use the first category label in the list)\n",
    "4. Convert the data types to the appropriate types (i.e. datetimeindex for the date and float for the amount)"
   ]
  },
  {
   "cell_type": "markdown",
   "metadata": {},
   "source": [
    "### 1. Fetch the Transactions for the last 90 days"
   ]
  },
  {
   "cell_type": "code",
   "execution_count": 8,
   "metadata": {},
   "outputs": [],
   "source": [
    "start_date = '{:%Y-%m-%d}'.format(datetime.datetime.now() + datetime.timedelta(-90))\n",
    "end_date = '{:%Y-%m-%d}'.format(datetime.datetime.now()) \n",
    "transactions_response = client.Transactions.get(access_token, start_date, end_date)"
   ]
  },
  {
   "cell_type": "markdown",
   "metadata": {},
   "source": [
    "### 2. Print the categories for each transaction"
   ]
  },
  {
   "cell_type": "code",
   "execution_count": 42,
   "metadata": {},
   "outputs": [
    {
     "name": "stdout",
     "output_type": "stream",
     "text": [
      "[\n",
      "    \"Travel\",\n",
      "    \"Airlines and Aviation Services\"\n",
      "]\n",
      "[\n",
      "    \"Travel\",\n",
      "    \"Car Service\",\n",
      "    \"Ride Share\"\n",
      "]\n",
      "[\n",
      "    \"Food and Drink\",\n",
      "    \"Restaurants\"\n",
      "]\n",
      "[\n",
      "    \"Payment\"\n",
      "]\n",
      "[\n",
      "    \"Food and Drink\",\n",
      "    \"Restaurants\"\n",
      "]\n",
      "[\n",
      "    \"Shops\",\n",
      "    \"Sporting Goods\"\n",
      "]\n",
      "[\n",
      "    \"Payment\",\n",
      "    \"Credit Card\"\n",
      "]\n",
      "[\n",
      "    \"Travel\",\n",
      "    \"Car Service\",\n",
      "    \"Ride Share\"\n",
      "]\n",
      "[\n",
      "    \"Transfer\",\n",
      "    \"Debit\"\n",
      "]\n",
      "[\n",
      "    \"Transfer\",\n",
      "    \"Deposit\"\n",
      "]\n",
      "[\n",
      "    \"Recreation\",\n",
      "    \"Gyms and Fitness Centers\"\n",
      "]\n",
      "[\n",
      "    \"Travel\",\n",
      "    \"Airlines and Aviation Services\"\n",
      "]\n",
      "[\n",
      "    \"Food and Drink\",\n",
      "    \"Restaurants\"\n",
      "]\n",
      "[\n",
      "    \"Food and Drink\",\n",
      "    \"Restaurants\",\n",
      "    \"Coffee Shop\"\n",
      "]\n",
      "[\n",
      "    \"Food and Drink\",\n",
      "    \"Restaurants\"\n",
      "]\n",
      "[\n",
      "    \"Transfer\",\n",
      "    \"Credit\"\n",
      "]\n",
      "[\n",
      "    \"Travel\",\n",
      "    \"Airlines and Aviation Services\"\n",
      "]\n",
      "[\n",
      "    \"Travel\",\n",
      "    \"Car Service\",\n",
      "    \"Ride Share\"\n",
      "]\n",
      "[\n",
      "    \"Food and Drink\",\n",
      "    \"Restaurants\"\n",
      "]\n",
      "[\n",
      "    \"Payment\"\n",
      "]\n",
      "[\n",
      "    \"Food and Drink\",\n",
      "    \"Restaurants\"\n",
      "]\n",
      "[\n",
      "    \"Shops\",\n",
      "    \"Sporting Goods\"\n",
      "]\n",
      "[\n",
      "    \"Payment\",\n",
      "    \"Credit Card\"\n",
      "]\n",
      "[\n",
      "    \"Travel\",\n",
      "    \"Car Service\",\n",
      "    \"Ride Share\"\n",
      "]\n",
      "[\n",
      "    \"Transfer\",\n",
      "    \"Debit\"\n",
      "]\n",
      "[\n",
      "    \"Transfer\",\n",
      "    \"Deposit\"\n",
      "]\n",
      "[\n",
      "    \"Recreation\",\n",
      "    \"Gyms and Fitness Centers\"\n",
      "]\n",
      "[\n",
      "    \"Travel\",\n",
      "    \"Airlines and Aviation Services\"\n",
      "]\n",
      "[\n",
      "    \"Food and Drink\",\n",
      "    \"Restaurants\"\n",
      "]\n",
      "[\n",
      "    \"Food and Drink\",\n",
      "    \"Restaurants\",\n",
      "    \"Coffee Shop\"\n",
      "]\n",
      "[\n",
      "    \"Food and Drink\",\n",
      "    \"Restaurants\"\n",
      "]\n",
      "[\n",
      "    \"Transfer\",\n",
      "    \"Credit\"\n",
      "]\n",
      "[\n",
      "    \"Travel\",\n",
      "    \"Airlines and Aviation Services\"\n",
      "]\n",
      "[\n",
      "    \"Travel\",\n",
      "    \"Car Service\",\n",
      "    \"Ride Share\"\n",
      "]\n",
      "[\n",
      "    \"Food and Drink\",\n",
      "    \"Restaurants\"\n",
      "]\n",
      "[\n",
      "    \"Payment\"\n",
      "]\n",
      "[\n",
      "    \"Food and Drink\",\n",
      "    \"Restaurants\"\n",
      "]\n",
      "[\n",
      "    \"Shops\",\n",
      "    \"Sporting Goods\"\n",
      "]\n",
      "[\n",
      "    \"Payment\",\n",
      "    \"Credit Card\"\n",
      "]\n",
      "[\n",
      "    \"Travel\",\n",
      "    \"Car Service\",\n",
      "    \"Ride Share\"\n",
      "]\n",
      "[\n",
      "    \"Transfer\",\n",
      "    \"Debit\"\n",
      "]\n",
      "[\n",
      "    \"Transfer\",\n",
      "    \"Deposit\"\n",
      "]\n",
      "[\n",
      "    \"Recreation\",\n",
      "    \"Gyms and Fitness Centers\"\n",
      "]\n",
      "[\n",
      "    \"Travel\",\n",
      "    \"Airlines and Aviation Services\"\n",
      "]\n",
      "[\n",
      "    \"Food and Drink\",\n",
      "    \"Restaurants\"\n",
      "]\n",
      "[\n",
      "    \"Food and Drink\",\n",
      "    \"Restaurants\",\n",
      "    \"Coffee Shop\"\n",
      "]\n",
      "[\n",
      "    \"Food and Drink\",\n",
      "    \"Restaurants\"\n",
      "]\n",
      "[\n",
      "    \"Transfer\",\n",
      "    \"Credit\"\n",
      "]\n"
     ]
    }
   ],
   "source": [
    "for transactions in transactions_response['transactions']:\n",
    "    print(json.dumps(transactions['category'],indent=4, sort_keys=True))"
   ]
  },
  {
   "cell_type": "code",
   "execution_count": 43,
   "metadata": {},
   "outputs": [],
   "source": [
    "date_lst = []\n",
    "name_lst = []\n",
    "amount_lst = []\n",
    "category_lst = []\n",
    "for transactions in transactions_response['transactions']:\n",
    "    date_lst.append(transactions['date'])\n",
    "    name_lst.append(transactions['name'])\n",
    "    amount_lst.append(transactions['amount'])\n",
    "    category_lst.append(transactions['category'][0])"
   ]
  },
  {
   "cell_type": "markdown",
   "metadata": {},
   "source": [
    "### 3. Create a new DataFrame using the following fields from the JSON transaction data: date, name, amount, category. \n",
    "\n",
    "(For categories with more than one label, just use the first category label in the list)"
   ]
  },
  {
   "cell_type": "code",
   "execution_count": 44,
   "metadata": {},
   "outputs": [],
   "source": [
    "trans_df = pd.DataFrame(list(zip(date_lst, name_lst, amount_lst, category_lst)), columns=[\"Date\", \"Name\", \"Amount\", \"Category\"])"
   ]
  },
  {
   "cell_type": "markdown",
   "metadata": {},
   "source": [
    "### 4. Convert the data types to the appropriate types \n",
    "\n",
    "(i.e. datetimeindex for the date and float for the amount)"
   ]
  },
  {
   "cell_type": "code",
   "execution_count": 45,
   "metadata": {},
   "outputs": [
    {
     "data": {
      "text/html": [
       "<div>\n",
       "<style scoped>\n",
       "    .dataframe tbody tr th:only-of-type {\n",
       "        vertical-align: middle;\n",
       "    }\n",
       "\n",
       "    .dataframe tbody tr th {\n",
       "        vertical-align: top;\n",
       "    }\n",
       "\n",
       "    .dataframe thead th {\n",
       "        text-align: right;\n",
       "    }\n",
       "</style>\n",
       "<table border=\"1\" class=\"dataframe\">\n",
       "  <thead>\n",
       "    <tr style=\"text-align: right;\">\n",
       "      <th></th>\n",
       "      <th>Transaction</th>\n",
       "      <th>Amount</th>\n",
       "      <th>Category</th>\n",
       "    </tr>\n",
       "    <tr>\n",
       "      <th>Date</th>\n",
       "      <th></th>\n",
       "      <th></th>\n",
       "      <th></th>\n",
       "    </tr>\n",
       "  </thead>\n",
       "  <tbody>\n",
       "    <tr>\n",
       "      <th>2019-09-03</th>\n",
       "      <td>United Airlines</td>\n",
       "      <td>500.00</td>\n",
       "      <td>Travel</td>\n",
       "    </tr>\n",
       "    <tr>\n",
       "      <th>2019-09-01</th>\n",
       "      <td>Uber 072515 SF**POOL**</td>\n",
       "      <td>6.33</td>\n",
       "      <td>Travel</td>\n",
       "    </tr>\n",
       "    <tr>\n",
       "      <th>2019-08-29</th>\n",
       "      <td>Tectra Inc</td>\n",
       "      <td>500.00</td>\n",
       "      <td>Food and Drink</td>\n",
       "    </tr>\n",
       "    <tr>\n",
       "      <th>2019-08-28</th>\n",
       "      <td>AUTOMATIC PAYMENT - THANK</td>\n",
       "      <td>2078.50</td>\n",
       "      <td>Payment</td>\n",
       "    </tr>\n",
       "    <tr>\n",
       "      <th>2019-08-28</th>\n",
       "      <td>KFC</td>\n",
       "      <td>500.00</td>\n",
       "      <td>Food and Drink</td>\n",
       "    </tr>\n",
       "    <tr>\n",
       "      <th>2019-08-28</th>\n",
       "      <td>Madison Bicycle Shop</td>\n",
       "      <td>500.00</td>\n",
       "      <td>Shops</td>\n",
       "    </tr>\n",
       "    <tr>\n",
       "      <th>2019-08-19</th>\n",
       "      <td>CREDIT CARD 3333 PAYMENT *//</td>\n",
       "      <td>25.00</td>\n",
       "      <td>Payment</td>\n",
       "    </tr>\n",
       "    <tr>\n",
       "      <th>2019-08-19</th>\n",
       "      <td>Uber 063015 SF**POOL**</td>\n",
       "      <td>5.40</td>\n",
       "      <td>Travel</td>\n",
       "    </tr>\n",
       "    <tr>\n",
       "      <th>2019-08-18</th>\n",
       "      <td>ACH Electronic CreditGUSTO PAY 123456</td>\n",
       "      <td>5850.00</td>\n",
       "      <td>Transfer</td>\n",
       "    </tr>\n",
       "    <tr>\n",
       "      <th>2019-08-18</th>\n",
       "      <td>CD DEPOSIT .INITIAL.</td>\n",
       "      <td>1000.00</td>\n",
       "      <td>Transfer</td>\n",
       "    </tr>\n",
       "    <tr>\n",
       "      <th>2019-08-17</th>\n",
       "      <td>Touchstone Climbing</td>\n",
       "      <td>78.50</td>\n",
       "      <td>Recreation</td>\n",
       "    </tr>\n",
       "    <tr>\n",
       "      <th>2019-08-17</th>\n",
       "      <td>United Airlines</td>\n",
       "      <td>-500.00</td>\n",
       "      <td>Travel</td>\n",
       "    </tr>\n",
       "    <tr>\n",
       "      <th>2019-08-16</th>\n",
       "      <td>McDonald's</td>\n",
       "      <td>12.00</td>\n",
       "      <td>Food and Drink</td>\n",
       "    </tr>\n",
       "    <tr>\n",
       "      <th>2019-08-16</th>\n",
       "      <td>Starbucks</td>\n",
       "      <td>4.33</td>\n",
       "      <td>Food and Drink</td>\n",
       "    </tr>\n",
       "    <tr>\n",
       "      <th>2019-08-15</th>\n",
       "      <td>SparkFun</td>\n",
       "      <td>89.40</td>\n",
       "      <td>Food and Drink</td>\n",
       "    </tr>\n",
       "    <tr>\n",
       "      <th>2019-08-14</th>\n",
       "      <td>INTRST PYMNT</td>\n",
       "      <td>-4.22</td>\n",
       "      <td>Transfer</td>\n",
       "    </tr>\n",
       "    <tr>\n",
       "      <th>2019-08-04</th>\n",
       "      <td>United Airlines</td>\n",
       "      <td>500.00</td>\n",
       "      <td>Travel</td>\n",
       "    </tr>\n",
       "    <tr>\n",
       "      <th>2019-08-02</th>\n",
       "      <td>Uber 072515 SF**POOL**</td>\n",
       "      <td>6.33</td>\n",
       "      <td>Travel</td>\n",
       "    </tr>\n",
       "    <tr>\n",
       "      <th>2019-07-30</th>\n",
       "      <td>Tectra Inc</td>\n",
       "      <td>500.00</td>\n",
       "      <td>Food and Drink</td>\n",
       "    </tr>\n",
       "    <tr>\n",
       "      <th>2019-07-29</th>\n",
       "      <td>AUTOMATIC PAYMENT - THANK</td>\n",
       "      <td>2078.50</td>\n",
       "      <td>Payment</td>\n",
       "    </tr>\n",
       "    <tr>\n",
       "      <th>2019-07-29</th>\n",
       "      <td>KFC</td>\n",
       "      <td>500.00</td>\n",
       "      <td>Food and Drink</td>\n",
       "    </tr>\n",
       "    <tr>\n",
       "      <th>2019-07-29</th>\n",
       "      <td>Madison Bicycle Shop</td>\n",
       "      <td>500.00</td>\n",
       "      <td>Shops</td>\n",
       "    </tr>\n",
       "    <tr>\n",
       "      <th>2019-07-20</th>\n",
       "      <td>CREDIT CARD 3333 PAYMENT *//</td>\n",
       "      <td>25.00</td>\n",
       "      <td>Payment</td>\n",
       "    </tr>\n",
       "    <tr>\n",
       "      <th>2019-07-20</th>\n",
       "      <td>Uber 063015 SF**POOL**</td>\n",
       "      <td>5.40</td>\n",
       "      <td>Travel</td>\n",
       "    </tr>\n",
       "    <tr>\n",
       "      <th>2019-07-19</th>\n",
       "      <td>ACH Electronic CreditGUSTO PAY 123456</td>\n",
       "      <td>5850.00</td>\n",
       "      <td>Transfer</td>\n",
       "    </tr>\n",
       "    <tr>\n",
       "      <th>2019-07-19</th>\n",
       "      <td>CD DEPOSIT .INITIAL.</td>\n",
       "      <td>1000.00</td>\n",
       "      <td>Transfer</td>\n",
       "    </tr>\n",
       "    <tr>\n",
       "      <th>2019-07-18</th>\n",
       "      <td>Touchstone Climbing</td>\n",
       "      <td>78.50</td>\n",
       "      <td>Recreation</td>\n",
       "    </tr>\n",
       "    <tr>\n",
       "      <th>2019-07-18</th>\n",
       "      <td>United Airlines</td>\n",
       "      <td>-500.00</td>\n",
       "      <td>Travel</td>\n",
       "    </tr>\n",
       "    <tr>\n",
       "      <th>2019-07-17</th>\n",
       "      <td>McDonald's</td>\n",
       "      <td>12.00</td>\n",
       "      <td>Food and Drink</td>\n",
       "    </tr>\n",
       "    <tr>\n",
       "      <th>2019-07-17</th>\n",
       "      <td>Starbucks</td>\n",
       "      <td>4.33</td>\n",
       "      <td>Food and Drink</td>\n",
       "    </tr>\n",
       "    <tr>\n",
       "      <th>2019-07-16</th>\n",
       "      <td>SparkFun</td>\n",
       "      <td>89.40</td>\n",
       "      <td>Food and Drink</td>\n",
       "    </tr>\n",
       "    <tr>\n",
       "      <th>2019-07-15</th>\n",
       "      <td>INTRST PYMNT</td>\n",
       "      <td>-4.22</td>\n",
       "      <td>Transfer</td>\n",
       "    </tr>\n",
       "    <tr>\n",
       "      <th>2019-07-05</th>\n",
       "      <td>United Airlines</td>\n",
       "      <td>500.00</td>\n",
       "      <td>Travel</td>\n",
       "    </tr>\n",
       "    <tr>\n",
       "      <th>2019-07-03</th>\n",
       "      <td>Uber 072515 SF**POOL**</td>\n",
       "      <td>6.33</td>\n",
       "      <td>Travel</td>\n",
       "    </tr>\n",
       "    <tr>\n",
       "      <th>2019-06-30</th>\n",
       "      <td>Tectra Inc</td>\n",
       "      <td>500.00</td>\n",
       "      <td>Food and Drink</td>\n",
       "    </tr>\n",
       "    <tr>\n",
       "      <th>2019-06-29</th>\n",
       "      <td>AUTOMATIC PAYMENT - THANK</td>\n",
       "      <td>2078.50</td>\n",
       "      <td>Payment</td>\n",
       "    </tr>\n",
       "    <tr>\n",
       "      <th>2019-06-29</th>\n",
       "      <td>KFC</td>\n",
       "      <td>500.00</td>\n",
       "      <td>Food and Drink</td>\n",
       "    </tr>\n",
       "    <tr>\n",
       "      <th>2019-06-29</th>\n",
       "      <td>Madison Bicycle Shop</td>\n",
       "      <td>500.00</td>\n",
       "      <td>Shops</td>\n",
       "    </tr>\n",
       "    <tr>\n",
       "      <th>2019-06-20</th>\n",
       "      <td>CREDIT CARD 3333 PAYMENT *//</td>\n",
       "      <td>25.00</td>\n",
       "      <td>Payment</td>\n",
       "    </tr>\n",
       "    <tr>\n",
       "      <th>2019-06-20</th>\n",
       "      <td>Uber 063015 SF**POOL**</td>\n",
       "      <td>5.40</td>\n",
       "      <td>Travel</td>\n",
       "    </tr>\n",
       "    <tr>\n",
       "      <th>2019-06-19</th>\n",
       "      <td>ACH Electronic CreditGUSTO PAY 123456</td>\n",
       "      <td>5850.00</td>\n",
       "      <td>Transfer</td>\n",
       "    </tr>\n",
       "    <tr>\n",
       "      <th>2019-06-19</th>\n",
       "      <td>CD DEPOSIT .INITIAL.</td>\n",
       "      <td>1000.00</td>\n",
       "      <td>Transfer</td>\n",
       "    </tr>\n",
       "    <tr>\n",
       "      <th>2019-06-18</th>\n",
       "      <td>Touchstone Climbing</td>\n",
       "      <td>78.50</td>\n",
       "      <td>Recreation</td>\n",
       "    </tr>\n",
       "    <tr>\n",
       "      <th>2019-06-18</th>\n",
       "      <td>United Airlines</td>\n",
       "      <td>-500.00</td>\n",
       "      <td>Travel</td>\n",
       "    </tr>\n",
       "    <tr>\n",
       "      <th>2019-06-17</th>\n",
       "      <td>McDonald's</td>\n",
       "      <td>12.00</td>\n",
       "      <td>Food and Drink</td>\n",
       "    </tr>\n",
       "    <tr>\n",
       "      <th>2019-06-17</th>\n",
       "      <td>Starbucks</td>\n",
       "      <td>4.33</td>\n",
       "      <td>Food and Drink</td>\n",
       "    </tr>\n",
       "    <tr>\n",
       "      <th>2019-06-16</th>\n",
       "      <td>SparkFun</td>\n",
       "      <td>89.40</td>\n",
       "      <td>Food and Drink</td>\n",
       "    </tr>\n",
       "    <tr>\n",
       "      <th>2019-06-15</th>\n",
       "      <td>INTRST PYMNT</td>\n",
       "      <td>-4.22</td>\n",
       "      <td>Transfer</td>\n",
       "    </tr>\n",
       "  </tbody>\n",
       "</table>\n",
       "</div>"
      ],
      "text/plain": [
       "                                      Transaction   Amount        Category\n",
       "Date                                                                      \n",
       "2019-09-03                        United Airlines   500.00          Travel\n",
       "2019-09-01                 Uber 072515 SF**POOL**     6.33          Travel\n",
       "2019-08-29                             Tectra Inc   500.00  Food and Drink\n",
       "2019-08-28              AUTOMATIC PAYMENT - THANK  2078.50         Payment\n",
       "2019-08-28                                    KFC   500.00  Food and Drink\n",
       "2019-08-28                   Madison Bicycle Shop   500.00           Shops\n",
       "2019-08-19           CREDIT CARD 3333 PAYMENT *//    25.00         Payment\n",
       "2019-08-19                 Uber 063015 SF**POOL**     5.40          Travel\n",
       "2019-08-18  ACH Electronic CreditGUSTO PAY 123456  5850.00        Transfer\n",
       "2019-08-18                   CD DEPOSIT .INITIAL.  1000.00        Transfer\n",
       "2019-08-17                    Touchstone Climbing    78.50      Recreation\n",
       "2019-08-17                        United Airlines  -500.00          Travel\n",
       "2019-08-16                             McDonald's    12.00  Food and Drink\n",
       "2019-08-16                              Starbucks     4.33  Food and Drink\n",
       "2019-08-15                               SparkFun    89.40  Food and Drink\n",
       "2019-08-14                           INTRST PYMNT    -4.22        Transfer\n",
       "2019-08-04                        United Airlines   500.00          Travel\n",
       "2019-08-02                 Uber 072515 SF**POOL**     6.33          Travel\n",
       "2019-07-30                             Tectra Inc   500.00  Food and Drink\n",
       "2019-07-29              AUTOMATIC PAYMENT - THANK  2078.50         Payment\n",
       "2019-07-29                                    KFC   500.00  Food and Drink\n",
       "2019-07-29                   Madison Bicycle Shop   500.00           Shops\n",
       "2019-07-20           CREDIT CARD 3333 PAYMENT *//    25.00         Payment\n",
       "2019-07-20                 Uber 063015 SF**POOL**     5.40          Travel\n",
       "2019-07-19  ACH Electronic CreditGUSTO PAY 123456  5850.00        Transfer\n",
       "2019-07-19                   CD DEPOSIT .INITIAL.  1000.00        Transfer\n",
       "2019-07-18                    Touchstone Climbing    78.50      Recreation\n",
       "2019-07-18                        United Airlines  -500.00          Travel\n",
       "2019-07-17                             McDonald's    12.00  Food and Drink\n",
       "2019-07-17                              Starbucks     4.33  Food and Drink\n",
       "2019-07-16                               SparkFun    89.40  Food and Drink\n",
       "2019-07-15                           INTRST PYMNT    -4.22        Transfer\n",
       "2019-07-05                        United Airlines   500.00          Travel\n",
       "2019-07-03                 Uber 072515 SF**POOL**     6.33          Travel\n",
       "2019-06-30                             Tectra Inc   500.00  Food and Drink\n",
       "2019-06-29              AUTOMATIC PAYMENT - THANK  2078.50         Payment\n",
       "2019-06-29                                    KFC   500.00  Food and Drink\n",
       "2019-06-29                   Madison Bicycle Shop   500.00           Shops\n",
       "2019-06-20           CREDIT CARD 3333 PAYMENT *//    25.00         Payment\n",
       "2019-06-20                 Uber 063015 SF**POOL**     5.40          Travel\n",
       "2019-06-19  ACH Electronic CreditGUSTO PAY 123456  5850.00        Transfer\n",
       "2019-06-19                   CD DEPOSIT .INITIAL.  1000.00        Transfer\n",
       "2019-06-18                    Touchstone Climbing    78.50      Recreation\n",
       "2019-06-18                        United Airlines  -500.00          Travel\n",
       "2019-06-17                             McDonald's    12.00  Food and Drink\n",
       "2019-06-17                              Starbucks     4.33  Food and Drink\n",
       "2019-06-16                               SparkFun    89.40  Food and Drink\n",
       "2019-06-15                           INTRST PYMNT    -4.22        Transfer"
      ]
     },
     "execution_count": 45,
     "metadata": {},
     "output_type": "execute_result"
    }
   ],
   "source": [
    "trans_df['Amount'] = trans_df['Amount'].astype('float')\n",
    "trans_df['Date'] = pd.to_datetime(trans_df['Date'])\n",
    "trans_df = trans_df.rename(columns = {'Name':'Transaction'})\n",
    "trans_df = trans_df.set_index('Date')\n",
    "trans_df"
   ]
  },
  {
   "cell_type": "markdown",
   "metadata": {},
   "source": [
    "---"
   ]
  },
  {
   "cell_type": "markdown",
   "metadata": {},
   "source": [
    "# Income Analysis with Plaid\n",
    "\n",
    "In this section, you will use the Plaid Sandbox to complete the following:\n",
    "1. Determine the previous year's gross income and print the results\n",
    "2. Determine the current monthly income and print the results\n",
    "3. Determine the projected yearly income and print the results"
   ]
  },
  {
   "cell_type": "code",
   "execution_count": 146,
   "metadata": {},
   "outputs": [
    {
     "data": {
      "text/plain": [
       "{'income': {'income_streams': [{'confidence': 0.99,\n",
       "    'days': 690,\n",
       "    'monthly_income': 500,\n",
       "    'name': 'UNITED AIRLINES'}],\n",
       "  'last_year_income': 6000,\n",
       "  'last_year_income_before_tax': 7285,\n",
       "  'max_number_of_overlapping_income_streams': 1,\n",
       "  'number_of_income_streams': 1,\n",
       "  'projected_yearly_income': 6085,\n",
       "  'projected_yearly_income_before_tax': 7389},\n",
       " 'request_id': 'VI4HlPURJetpyfQ'}"
      ]
     },
     "execution_count": 146,
     "metadata": {},
     "output_type": "execute_result"
    }
   ],
   "source": [
    "income_response = client.Income.get(access_token)\n",
    "income_response"
   ]
  },
  {
   "cell_type": "code",
   "execution_count": 147,
   "metadata": {},
   "outputs": [],
   "source": [
    "previous_yr_gross_income = income_response['income']['last_year_income_before_tax']\n",
    "current_mth_income = income_response['income']['income_streams'][0]['monthly_income']\n",
    "proj_yr_income = income_response['income']['projected_yearly_income_before_tax']"
   ]
  },
  {
   "cell_type": "markdown",
   "metadata": {},
   "source": [
    "---"
   ]
  },
  {
   "cell_type": "code",
   "execution_count": 148,
   "metadata": {},
   "outputs": [
    {
     "name": "stdout",
     "output_type": "stream",
     "text": [
      "The client's gross income last year was: $7285.\n",
      "The client's monthly income is: $500.\n",
      "The client's projected yearly income is: $7389.\n"
     ]
    }
   ],
   "source": [
    "print(f\"The client's gross income last year was: ${previous_yr_gross_income}.\")\n",
    "print(f\"The client's monthly income is: ${current_mth_income}.\")\n",
    "print(f\"The client's projected yearly income is: ${proj_yr_income}.\")"
   ]
  },
  {
   "cell_type": "markdown",
   "metadata": {},
   "source": [
    "# Budget Analysis\n",
    "In this section, you will use the transactions DataFrame to analyze the customer's budget\n",
    "\n",
    "1. Calculate the total spending per category and print the results (Hint: groupby or count transactions per category)\n",
    "2. Generate a bar chart with the number of transactions for each category \n",
    "3. Calulate the expenses per month\n",
    "4. Plot the total expenses per month"
   ]
  },
  {
   "cell_type": "markdown",
   "metadata": {},
   "source": [
    "### Calculate the expenses per category"
   ]
  },
  {
   "cell_type": "code",
   "execution_count": 48,
   "metadata": {},
   "outputs": [
    {
     "data": {
      "text/plain": [
       "<matplotlib.axes._subplots.AxesSubplot at 0x130ff6c0128>"
      ]
     },
     "execution_count": 48,
     "metadata": {},
     "output_type": "execute_result"
    },
    {
     "data": {
      "image/png": "[encoded data removed]",
      "text/plain": [
       "<Figure size 1440x720 with 1 Axes>"
      ]
     },
     "metadata": {},
     "output_type": "display_data"
    }
   ],
   "source": [
    "category_exp = trans_df.groupby(['Category'])['Amount'].sum()\n",
    "plot_title = \"Expenses by Category\"\n",
    "category_exp.plot(kind='pie', title=plot_title, figsize=(20,10))"
   ]
  },
  {
   "cell_type": "code",
   "execution_count": 29,
   "metadata": {},
   "outputs": [
    {
     "data": {
      "text/plain": [
       "<matplotlib.axes._subplots.AxesSubplot at 0x214bf0e43c8>"
      ]
     },
     "execution_count": 29,
     "metadata": {},
     "output_type": "execute_result"
    },
    {
     "data": {
      "image/png": "[encoded data removed]",
      "text/plain": [
       "<Figure size 1440x720 with 1 Axes>"
      ]
     },
     "metadata": {
      "needs_background": "light"
     },
     "output_type": "display_data"
    }
   ],
   "source": [
    "plot_title=\"Number of Transactions per Category\"\n",
    "trans_by_category = trans_df.groupby(['Category'])['Transaction'].count()\n",
    "trans_by_category.plot(kind='bar', title=plot_title, figsize=(20,10))"
   ]
  },
  {
   "cell_type": "markdown",
   "metadata": {},
   "source": [
    "### Calculate the expenses per month"
   ]
  },
  {
   "cell_type": "code",
   "execution_count": 142,
   "metadata": {},
   "outputs": [
    {
     "data": {
      "text/html": [
       "<div>\n",
       "<style scoped>\n",
       "    .dataframe tbody tr th:only-of-type {\n",
       "        vertical-align: middle;\n",
       "    }\n",
       "\n",
       "    .dataframe tbody tr th {\n",
       "        vertical-align: top;\n",
       "    }\n",
       "\n",
       "    .dataframe thead th {\n",
       "        text-align: right;\n",
       "    }\n",
       "</style>\n",
       "<table border=\"1\" class=\"dataframe\">\n",
       "  <thead>\n",
       "    <tr style=\"text-align: right;\">\n",
       "      <th></th>\n",
       "      <th>Amount</th>\n",
       "    </tr>\n",
       "    <tr>\n",
       "      <th>Date</th>\n",
       "      <th></th>\n",
       "    </tr>\n",
       "  </thead>\n",
       "  <tbody>\n",
       "    <tr>\n",
       "      <th>2019-06-30</th>\n",
       "      <td>10138.91</td>\n",
       "    </tr>\n",
       "    <tr>\n",
       "      <th>2019-07-31</th>\n",
       "      <td>10645.24</td>\n",
       "    </tr>\n",
       "    <tr>\n",
       "      <th>2019-08-31</th>\n",
       "      <td>10645.24</td>\n",
       "    </tr>\n",
       "    <tr>\n",
       "      <th>2019-09-30</th>\n",
       "      <td>506.33</td>\n",
       "    </tr>\n",
       "  </tbody>\n",
       "</table>\n",
       "</div>"
      ],
      "text/plain": [
       "              Amount\n",
       "Date                \n",
       "2019-06-30  10138.91\n",
       "2019-07-31  10645.24\n",
       "2019-08-31  10645.24\n",
       "2019-09-30    506.33"
      ]
     },
     "execution_count": 142,
     "metadata": {},
     "output_type": "execute_result"
    }
   ],
   "source": [
    "monthly_exp = trans_df.groupby(pd.Grouper(freq='M')).sum()\n",
    "monthly_exp"
   ]
  },
  {
   "cell_type": "code",
   "execution_count": 145,
   "metadata": {},
   "outputs": [
    {
     "data": {
      "text/plain": [
       "<matplotlib.axes._subplots.AxesSubplot at 0x130813686a0>"
      ]
     },
     "execution_count": 145,
     "metadata": {},
     "output_type": "execute_result"
    },
    {
     "data": {
      "image/png": "[encoded data removed]",
      "text/plain": [
       "<Figure size 1440x720 with 1 Axes>"
      ]
     },
     "metadata": {
      "needs_background": "light"
     },
     "output_type": "display_data"
    }
   ],
   "source": [
    "plot_title = \"Total Expenses by Month\"\n",
    "monthly_exp.plot(kind='bar', title=plot_title, figsize=(20,10))"
   ]
  }
 ],
 "metadata": {
  "kernel_info": {
   "name": "dev"
  },
  "kernelspec": {
   "display_name": "Python 3",
   "language": "python",
   "name": "python3"
  },
  "language_info": {
   "codemirror_mode": {
    "name": "ipython",
    "version": 3
   },
   "file_extension": ".py",
   "mimetype": "text/x-python",
   "name": "python",
   "nbconvert_exporter": "python",
   "pygments_lexer": "ipython3",
   "version": "3.7.3"
  },
  "nteract": {
   "version": "0.12.3"
  }
 },
 "nbformat": 4,
 "nbformat_minor": 2
}
